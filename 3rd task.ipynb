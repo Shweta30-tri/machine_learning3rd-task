{
 "cells": [
  {
   "cell_type": "code",
   "execution_count": null,
   "metadata": {},
   "outputs": [],
   "source": [
    "rom tensorflow.keras.layers import Input, Concatenate\n",
    "\n",
    "# For simplicity, we'll generate random context data\n",
    "context_train = np.random.rand(X_train.shape[0], 5)\n",
    "context_test = np.random.rand(X_test.shape[0], 5)\n",
    "\n",
    "def create_multi_context_model(input_shape, context_dim):\n",
    "    image_input = Input(shape=input_shape)\n",
    "    context_input = Input(shape=(context_dim,))\n",
    "\n",
    "    x = Conv2D(32, kernel_size=(3, 3), activation='relu')(image_input)\n",
    "    x = MaxPooling2D(pool_size=(2, 2))(x)\n",
    "    x = Dropout(0.25)(x)\n",
    "    x = Conv2D(64, kernel_size=(3, 3), activation='relu')(x)\n",
    "    x = MaxPooling2D(pool_size=(2, 2))(x)\n",
    "    x = Dropout(0.25)(x)\n",
    "    x = Flatten()(x)\n",
    "\n",
    "    x = Concatenate()([x, context_input])\n",
    "    x = Dense(128, activation='relu')(x)\n",
    "    x = Dropout(0.5)(x)\n",
    "    output = Dense(7, activation='softmax')(x)\n",
    "\n",
    "    model = tf.keras.Model(inputs=[image_input, context_input], outputs=output)\n",
    "    model.compile(optimizer='adam', loss='categorical_crossentropy', metrics=['accuracy'])\n",
    "    return model\n",
    "\n",
    "context_dim = 5\n",
    "multi_context_model = create_multi_context_model((48, 48, 1), context_dim)\n",
    "multi_context_model.fit([X_train, context_train], y_train, epochs=10, validation_data=([X_test, context_test], y_test))\n"
   ]
  },
  {
   "cell_type": "code",
   "execution_count": null,
   "metadata": {},
   "outputs": [],
   "source": [
    "loss, accuracy = multi_context_model.evaluate([X_test, context_test], y_test) #generalizing the datsets\n",
    "print(f\"Test accuracy: {accuracy * 100:.2f}%\")"
   ]
  }
 ],
 "metadata": {
  "language_info": {
   "name": "python"
  }
 },
 "nbformat": 4,
 "nbformat_minor": 2
}
